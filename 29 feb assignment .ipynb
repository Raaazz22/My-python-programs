{
 "cells": [
  {
   "cell_type": "code",
   "execution_count": null,
   "id": "1b366ccf-95bb-4c4f-8799-6e1cc04205bb",
   "metadata": {},
   "outputs": [],
   "source": [
    "1. Who developed python programming language?\n",
    "\n",
    "The python programming language is developed by Guido van Rossum .\n"
   ]
  },
  {
   "cell_type": "code",
   "execution_count": null,
   "id": "9772f646-f750-4ea4-9665-e053e78de49f",
   "metadata": {},
   "outputs": [],
   "source": [
    "2. Which type of programming does python support ?\n",
    "\n",
    "Python programming language, support object-oriented, structured, and functional programming.\n"
   ]
  },
  {
   "cell_type": "code",
   "execution_count": null,
   "id": "dd09d1c5-08f8-4b58-94d1-8ce59090ce12",
   "metadata": {},
   "outputs": [],
   "source": [
    "3. Is python is case sensitive when dealing with Identifiers?\n",
    "\n",
    "YES, python is case sensitive when dealing with identifiers beacuse the identifier with upper case and \n",
    "identifier with lower case are treated as differnt in python.\n"
   ]
  },
  {
   "cell_type": "code",
   "execution_count": null,
   "id": "70af476f-d6c1-48d2-a4ff-575867853e43",
   "metadata": {},
   "outputs": [],
   "source": [
    "4. What is the correct extension of the python file?\n",
    "\n",
    "The correct extension of the python file is .py .\n"
   ]
  },
  {
   "cell_type": "code",
   "execution_count": null,
   "id": "06f19d32-7a3c-419b-ba8a-4eb407a84033",
   "metadata": {},
   "outputs": [],
   "source": [
    "5. Is python code is compiled or Interpreted ?\n",
    "\n",
    "Python is an Interpreted language ."
   ]
  },
  {
   "cell_type": "code",
   "execution_count": null,
   "id": "6e124fab-6bd8-4668-be38-65a04ca93173",
   "metadata": {},
   "outputs": [],
   "source": [
    "6. Name a few blocks of code used to define in python language .\n",
    "\n",
    "Function and the module "
   ]
  },
  {
   "cell_type": "code",
   "execution_count": null,
   "id": "e1442bd0-756f-483f-8638-7537aec5b914",
   "metadata": {},
   "outputs": [],
   "source": [
    "7. State a character used to give single line comment in python.\n",
    "\n",
    "# is used to give single line comment in python "
   ]
  },
  {
   "cell_type": "code",
   "execution_count": null,
   "id": "6489e35f-37d6-43e8-bbba-127f9cd2dc04",
   "metadata": {},
   "outputs": [],
   "source": [
    "8. Mention function which can help us to find the version of python that we are currently working on .\n",
    "\n",
    "sys.verion function  can help us to find the version of python that we are currently working on .\n",
    "\n"
   ]
  },
  {
   "cell_type": "code",
   "execution_count": null,
   "id": "def9d700-4f54-425b-ae5e-4a1862905ce8",
   "metadata": {},
   "outputs": [],
   "source": [
    "9. Python supports the creation of anonymus function at a run time using a construct , called \n",
    "\n",
    "Lambda"
   ]
  },
  {
   "cell_type": "code",
   "execution_count": null,
   "id": "e8f95fd1-dba0-4584-a61d-81a104a84fea",
   "metadata": {},
   "outputs": [],
   "source": [
    "10. What does pip stands for python ?\n",
    "\n",
    "pip stands for Preferred Installer Program"
   ]
  },
  {
   "cell_type": "code",
   "execution_count": null,
   "id": "8c14dac2-504c-442b-8c95-621d6b13de47",
   "metadata": {},
   "outputs": [],
   "source": [
    "11. Mention a few builtin functions in python.\n",
    "\n",
    "print(),append(),extend(),count(),etc."
   ]
  },
  {
   "cell_type": "code",
   "execution_count": null,
   "id": "47e643bd-a106-47f4-b4b1-76a9fbf497c4",
   "metadata": {},
   "outputs": [],
   "source": [
    "12. what is the maximum possible length of the identifier in python ?\n",
    "\n",
    "An identifier can have a maximum length of 79 characters in Python."
   ]
  },
  {
   "cell_type": "code",
   "execution_count": null,
   "id": "27242c64-e216-4c66-8565-2ba6f52d810b",
   "metadata": {},
   "outputs": [],
   "source": [
    "13. what are the benifits of using python ?\n",
    "\n",
    "python is easy to program, huge number of libraries , no any declaration is needed , python is object-oriented , etc."
   ]
  },
  {
   "cell_type": "code",
   "execution_count": null,
   "id": "76ff0236-10ad-46ad-be7d-e8b4510db1ed",
   "metadata": {},
   "outputs": [],
   "source": [
    "14. How is memory is managed in python .\n",
    "\n",
    "he management of this private heap is ensured internally by the Python memory manager."
   ]
  },
  {
   "cell_type": "code",
   "execution_count": null,
   "id": "7d48a1a6-b4aa-4f92-b9d3-31e202332244",
   "metadata": {},
   "outputs": [],
   "source": [
    "15. How to install python on windows and set path variables ?\n",
    "\n",
    "firstly we download the python from the python website and then install it.\n",
    "\n",
    "The complete path of python.exe can be added by:\n",
    "\n",
    "Right-clicking This PC and going to Properties.\n",
    "\n",
    "Clicking on the Advanced system settings in the menu on the left.\n",
    "\n",
    "Clicking on the Environment Variables button o​n the bottom right.\n",
    "\n",
    "In the System variables section, selecting the Path variable and clicking on Edit. The next screen will show all the directories that are currently a part of the PATH variable.\n",
    "\n",
    "Clicking on New and entering Python’s install directory."
   ]
  },
  {
   "cell_type": "code",
   "execution_count": null,
   "id": "0c7e7141-0f91-4098-b4b6-3d0479313485",
   "metadata": {},
   "outputs": [],
   "source": [
    "16. Is indentation is required in python ?\n",
    "\n",
    "yes indentation is required in python because in python there in not  \";\" for line termination so we use indentation ."
   ]
  }
 ],
 "metadata": {
  "kernelspec": {
   "display_name": "Python 3 (ipykernel)",
   "language": "python",
   "name": "python3"
  },
  "language_info": {
   "codemirror_mode": {
    "name": "ipython",
    "version": 3
   },
   "file_extension": ".py",
   "mimetype": "text/x-python",
   "name": "python",
   "nbconvert_exporter": "python",
   "pygments_lexer": "ipython3",
   "version": "3.10.8"
  }
 },
 "nbformat": 4,
 "nbformat_minor": 5
}
