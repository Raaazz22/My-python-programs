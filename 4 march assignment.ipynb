{
 "cells": [
  {
   "cell_type": "code",
   "execution_count": null,
   "id": "8234646f-2dad-4905-a378-53a4f1096b3a",
   "metadata": {},
   "outputs": [],
   "source": [
    "#Q1. Load the \"titanic\" dataset using the load_dataset function of seaborn. Use Plotly express to plot a\n",
    "#scatter plot for age and fare columns in the titanic dataset.\n",
    "\n",
    "\n",
    "import plotly.graph.object as go\n",
    "import seaborn as sns\n",
    "\n",
    "\n",
    "titanic = sns.load_dataset('titanic')\n",
    "\n",
    "fig = go.scatter(x='age' , y = 'fare' , data = titanic)\n",
    "fig.show()"
   ]
  },
  {
   "cell_type": "code",
   "execution_count": null,
   "id": "82ca255d-7bb7-4e94-beb9-b998c489e8f3",
   "metadata": {},
   "outputs": [],
   "source": [
    "#Q2. Using the tips dataset in the Plotly library, plot a box plot using Plotly express.\n",
    "\n",
    "import plotly.graph.object as go\n",
    "import seaborn as sns\n",
    "\n",
    "\n",
    "tips = sns.load_dataset('tips')\n",
    "\n",
    "fig = go.box(x='tip' , y = 'bill' , data = tips)\n",
    "fig.show()"
   ]
  },
  {
   "cell_type": "code",
   "execution_count": null,
   "id": "94a2d38b-d424-4204-918b-66828c025ca4",
   "metadata": {},
   "outputs": [],
   "source": [
    "#Q3. Using the tips dataset in the Plotly library, Plot a histogram for x= \"sex\" and y=\"total_bill\" column in\n",
    "#the tips dataset. Also, use the \"smoker\" column with the pattern_shape parameter and the \"day\"\n",
    "#column with the color parameter.\n",
    "\n",
    "import plotly.graph.object as go\n",
    "import seaborn as sns\n",
    "\n",
    "\n",
    "tips = sns.load_dataset('tips')\n",
    "\n",
    "fig = go.histogram(x='sex' , y = 'total_bill' , data = tips)\n",
    "fig.show()"
   ]
  },
  {
   "cell_type": "code",
   "execution_count": null,
   "id": "e86a3e0e-8bda-4de2-9a9f-8875d84335b3",
   "metadata": {},
   "outputs": [],
   "source": [
    "#Q4. Using the iris dataset in the Plotly library, Plot a scatter matrix plot, using the \"species\" column for\n",
    "#the color parameter.\n",
    "\n",
    "import plotly.express as go\n",
    "import seaborn as sns\n",
    "\n",
    "\n",
    "iris = sns.load_dataset('iris')\n",
    "    \n",
    "plot = go.scatter(x=iris.seplat_length, y = iris.sepal_width)\n",
    "plot.show()"
   ]
  },
  {
   "cell_type": "code",
   "execution_count": null,
   "id": "6d7e765a-1273-44f1-a4f6-23d6eb83f1ed",
   "metadata": {},
   "outputs": [],
   "source": [
    "#Q5. What is Distplot? Using Plotly express, plot a distplot.\n",
    "\n",
    "#A distribution plot, also known as a Distplot, displays the variation in data distribution. The total distribution of continuous data variables is shown by the Seaborn Distplot. The data is represented by a combination of the two of these – rug plot, histogram, and a line in the Distplot. The create_distplot() function in the figure_factory module requires a necessary parameter called hist data.\n",
    "\n",
    "\n",
    "import numpy as np\n",
    "import plotly.figure_factory as ff\n",
    "hist_data = [np.random.randn(100)]\n",
    "labels = ['distplot']\n",
    "figure = ff.create_distplot(hist_data, labels)\n",
    "figure.show()"
   ]
  },
  {
   "cell_type": "code",
   "execution_count": null,
   "id": "5c610d98-e9b9-439e-aa05-5e5504e1c08f",
   "metadata": {},
   "outputs": [],
   "source": []
  }
 ],
 "metadata": {
  "kernelspec": {
   "display_name": "Python 3 (ipykernel)",
   "language": "python",
   "name": "python3"
  },
  "language_info": {
   "codemirror_mode": {
    "name": "ipython",
    "version": 3
   },
   "file_extension": ".py",
   "mimetype": "text/x-python",
   "name": "python",
   "nbconvert_exporter": "python",
   "pygments_lexer": "ipython3",
   "version": "3.10.8"
  }
 },
 "nbformat": 4,
 "nbformat_minor": 5
}
