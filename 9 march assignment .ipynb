{
 "cells": [
  {
   "cell_type": "code",
   "execution_count": null,
   "id": "16095e35-402a-4a0e-b56b-e6f3f2791aa3",
   "metadata": {},
   "outputs": [],
   "source": [
    "Q1: What are the Probability Mass Function (PMF) and Probability Density Function (PDF)? Explain with\n",
    "an example.\n",
    "\n",
    "\n",
    "The Probability Mass Function (PMF) is also called a probability function or frequency function which characterizes the \n",
    "distribution of a discrete random variable. Let X be a discrete random variable of a function, then the probability mass \n",
    "function of a random variable X is given by\n",
    "\n",
    "Px (x) = P( X=x ), For all x belongs to the range of X\n",
    "\n",
    "\n",
    "The Probability Density Function(PDF) defines the probability function representing the density of a continuous random \n",
    "variable lying between a specific range of values. In other words, the probability density function produces the \n",
    "likelihood of values of the continuous random variable. Sometimes it is also called a probability distribution function \n",
    "or just a probability function.\n"
   ]
  },
  {
   "cell_type": "code",
   "execution_count": null,
   "id": "4402f3c1-3a08-44ed-92fb-d2924cc89fbb",
   "metadata": {},
   "outputs": [],
   "source": [
    "Q2: What is Cumulative Density Function (CDF)? Explain with an example. Why CDF is used?\n",
    "\n",
    "The cumulative distribution function (CDF) of random variable X is defined as FX(x) = P(X ≤ x), for all x ∈ R. \n",
    "\n",
    "Note that the subscript X indicates that this is the CDF of the random variable X. \n",
    "\n",
    "Also, note that the CDF is defined for all x ∈ R."
   ]
  },
  {
   "cell_type": "code",
   "execution_count": null,
   "id": "808abec5-4dcd-49f1-8c28-d725121c593e",
   "metadata": {},
   "outputs": [],
   "source": [
    "Q3: What are some examples of situations where the normal distribution might be used as a model?\n",
    "Explain how the parameters of the normal distribution relate to the shape of the distribution.\n",
    "\n",
    "\n",
    "The height of people is an example of normal distribution. Most of the people in a specific population are of average\n",
    "height. The number of people taller and shorter than the average height people is almost equal, and a very small number\n",
    "of people are either extremely tall or extremely short. "
   ]
  },
  {
   "cell_type": "code",
   "execution_count": null,
   "id": "62c3f4e6-aa3d-47e1-a0c1-630601d8b965",
   "metadata": {},
   "outputs": [],
   "source": [
    "Q4: Explain the importance of Normal Distribution. Give a few real-life examples of Normal\n",
    "Distribution.\n",
    "\n",
    "\n",
    "Normal/Gaussian Distribution is a bell-shaped graph that encompasses two basic terms- mean and standard deviation. \n",
    "\n",
    "It is a symmetrical arrangement of a data set in which most values cluster in the mean and the rest taper off\n",
    "symmetrically towards either extreme. \n",
    "\n",
    "Numerous genetic and environmental factors influence the trait.\n",
    "\n",
    "\n",
    "The height of people is an example of normal distribution. Most of the people in a specific population are of average\n",
    "height. The number of people taller and shorter than the average height people is almost equal, and a very small number\n",
    "of people are either extremely tall or extremely short. \n"
   ]
  },
  {
   "cell_type": "code",
   "execution_count": null,
   "id": "bb693222-9685-4519-b41a-39a5fcfc5c70",
   "metadata": {},
   "outputs": [],
   "source": [
    "Q5: What is Bernaulli Distribution? Give an Example. What is the difference between Bernoulli\n",
    "Distribution and Binomial Distribution?\n",
    "\n",
    "The Bernoulli distribution represents the success or failure of a single Bernoulli trial. \n",
    "\n",
    "The Binomial Distribution represents the number of successes and failures in n independent Bernoulli trials for some \n",
    "\n",
    "given value of n.\n"
   ]
  },
  {
   "cell_type": "code",
   "execution_count": null,
   "id": "af3437b9-2fee-4a9b-8309-35e4e8551c08",
   "metadata": {},
   "outputs": [],
   "source": [
    "Q6. Consider a dataset with a mean of 50 and a standard deviation of 10. If we assume that the dataset\n",
    "is normally distributed, what is the probability that a randomly selected observation will be greater\n",
    "than 60? Use the appropriate formula and show your calculations.\n",
    "\n",
    "Normal distribution with a mean of 50 and standard deviation of 10. 68% of the area is within one standard deviation (10) of \n",
    "\n",
    "the mean (50)."
   ]
  },
  {
   "cell_type": "code",
   "execution_count": null,
   "id": "deadcf63-1238-4878-9788-c398e9b0df71",
   "metadata": {},
   "outputs": [],
   "source": [
    "Q7: Explain uniform Distribution with an example.\n",
    "\n",
    "In statistics, uniform distribution refers to a type of probability distribution in which all outcomes are equally likely.\n",
    "\n",
    "A deck of cards has within it uniform distributions because the likelihood of drawing a heart, a club, a diamond, or a \n",
    "\n",
    "spade is equally likely."
   ]
  },
  {
   "cell_type": "code",
   "execution_count": null,
   "id": "8f3be190-9c57-40ef-9e5d-74d8c6929c5a",
   "metadata": {},
   "outputs": [],
   "source": [
    "Q8: What is the z score? State the importance of the z score.\n",
    "\n",
    "A z-score is important because it tells where your data lies in the data distribution. \n",
    "\n",
    "For example, if a z-score is 1.5, it is 1.5 standard deviations away from the mean."
   ]
  },
  {
   "cell_type": "code",
   "execution_count": null,
   "id": "c7640257-e727-4b28-a505-39df8bb90dbc",
   "metadata": {},
   "outputs": [],
   "source": [
    "Q9: What is Central Limit Theorem? State the significance of the Central Limit Theorem.\n",
    "\n",
    "The CLT is a statistical theory that states that - if you take a sufficiently large sample size from a population with a \n",
    "finite level of variance, the mean of all samples from that population will be roughly equal to the population mean.\n",
    "\n"
   ]
  },
  {
   "cell_type": "code",
   "execution_count": null,
   "id": "40d20637-cb0d-4f8a-8ceb-64d84e112122",
   "metadata": {},
   "outputs": [],
   "source": [
    "Q10: State the assumptions of the Central Limit Theorem.\n",
    "\n",
    "The data must adhere to the randomization rule. It needs to be sampled at random.\n",
    "\n",
    "The samples should be unrelated to one another. One sample should not impact the others.\n",
    "\n",
    "When taking samples without replacement, the sample size should not exceed 10% of the population.\n"
   ]
  },
  {
   "cell_type": "code",
   "execution_count": null,
   "id": "827a3689-0925-43e0-8d7e-69f200072854",
   "metadata": {},
   "outputs": [],
   "source": []
  }
 ],
 "metadata": {
  "kernelspec": {
   "display_name": "Python 3 (ipykernel)",
   "language": "python",
   "name": "python3"
  },
  "language_info": {
   "codemirror_mode": {
    "name": "ipython",
    "version": 3
   },
   "file_extension": ".py",
   "mimetype": "text/x-python",
   "name": "python",
   "nbconvert_exporter": "python",
   "pygments_lexer": "ipython3",
   "version": "3.10.8"
  }
 },
 "nbformat": 4,
 "nbformat_minor": 5
}
